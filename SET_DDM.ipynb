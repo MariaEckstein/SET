{
 "cells": [
  {
   "cell_type": "markdown",
   "metadata": {},
   "source": [
    "# Fitting a drift diffusion model to SET data"
   ]
  },
  {
   "cell_type": "markdown",
   "metadata": {},
   "source": [
    "## TODOs & thoughs\n",
    "* Include within-subjects effects using patsy package -> http://ski.clps.brown.edu/hddm_docs/tutorial_python.html#within-subject-effects\n",
    "* Integrate pupil pattern (lin, quad, lin-quad) as predictor in regression -> http://ski.clps.brown.edu/hddm_docs/tutorial_python.html#fitting-regression-models\n",
    "* Better explanation of regression (just do `m = hddm.models.HDDMRegressor(data, 'v ~ BOLD')`) -> http://ski.clps.brown.edu/hddm_docs/howto.html#estimate-a-regression-model"
   ]
  },
  {
   "cell_type": "markdown",
   "metadata": {},
   "source": [
    "## Problems and solutions\n",
    "* `ValueError: Buffer dtype mismatch, expected 'double' but got 'long'` -> rts must be coded in seconds (not miliseconds)\n",
    "* `KeyError: 'rt'` -> column names must match up with example here: http://ski.clps.brown.edu/hddm_docs/tutorial_python.html\n",
    "* `ZeroProbability: Stochastic wfpt(0span).8.0's value is outside its support, or it forbids its parents' current values.` -> remove all subjects for which it throws this error\n",
    "* `Could not generate output statistics for a_subj(1span).12.0` -> number of samples must greater than number of burn. e.g., model.sample(300, burn=300) does NOT work, but model.sample(500, burn=300) works!\n",
    "* `AssertionError: Step-out procedure failed` -> increase number of samples"
   ]
  },
  {
   "cell_type": "markdown",
   "metadata": {},
   "source": [
    "## Explanation of HDDM parameters\n",
    "see also http://ski.clps.brown.edu/hddm_docs/methods.html\n",
    "\n",
    "* v -> The speed with which the accumulation process approaches one of the two boundaries is called drift-rate v and represents the relative evidence for or against a particular response.\n",
    "* a -> The distance between the two boundaries (i.e. threshold a) influences how much evidence must be accumulated until a response is executed. \n",
    "* t -> Response time, however, is not solely comprised of the decision making process – perception, movement initiation and execution all take time and are lumped in the DDM by a single non-decision time parameter t.\n",
    "* z -> The model also allows for a prepotent bias z affecting the starting point of the drift process relative to the two boundaries.\n",
    "* sv-> inter-trial variability in drift-rate\n",
    "* st -> inter-trial variability in non-decision time\n",
    "* sz -> inter-trial variability in starting-point"
   ]
  },
  {
   "cell_type": "markdown",
   "metadata": {},
   "source": [
    "## Code"
   ]
  },
  {
   "cell_type": "code",
   "execution_count": 1,
   "metadata": {},
   "outputs": [
    {
     "name": "stderr",
     "output_type": "stream",
     "text": [
      "C:\\Users\\maria\\Anaconda3\\envs\\SETDDM\\lib\\site-packages\\IPython\\parallel.py:13: ShimWarning: The `IPython.parallel` package has been deprecated since IPython 4.0. You should import from ipyparallel instead.\n",
      "  \"You should import from ipyparallel instead.\", ShimWarning)\n"
     ]
    }
   ],
   "source": [
    "import pandas as pd\n",
    "import matplotlib.pyplot as plt\n",
    "import hddm\n",
    "import glob\n",
    "import numpy as np\n",
    "from first import first"
   ]
  },
  {
   "cell_type": "code",
   "execution_count": 7,
   "metadata": {},
   "outputs": [],
   "source": [
    "file_dir = \"C:/Users/maria/MEGAsync/Berkeley/R scripts/sequentialset/subj_files/databoth/raw_data\"\n",
    "n_subj = 61  # there are 61 in total\n",
    "preprocess_data = True\n",
    "run_acc_model = True\n",
    "run_stim_model = True\n",
    "n_burn = 1000  # traces look good after about 1000\n",
    "n_sample = 1000 + n_burn  # n_samples must be > n_burn"
   ]
  },
  {
   "cell_type": "code",
   "execution_count": 8,
   "metadata": {},
   "outputs": [
    {
     "data": {
      "text/html": [
       "<div>\n",
       "<style scoped>\n",
       "    .dataframe tbody tr th:only-of-type {\n",
       "        vertical-align: middle;\n",
       "    }\n",
       "\n",
       "    .dataframe tbody tr th {\n",
       "        vertical-align: top;\n",
       "    }\n",
       "\n",
       "    .dataframe thead th {\n",
       "        text-align: right;\n",
       "    }\n",
       "</style>\n",
       "<table border=\"1\" class=\"dataframe\">\n",
       "  <thead>\n",
       "    <tr style=\"text-align: right;\">\n",
       "      <th></th>\n",
       "      <th>subj_idx</th>\n",
       "      <th>TrialId</th>\n",
       "      <th>ACC</th>\n",
       "      <th>rt</th>\n",
       "    </tr>\n",
       "  </thead>\n",
       "  <tbody>\n",
       "    <tr>\n",
       "      <th>count</th>\n",
       "      <td>660.000000</td>\n",
       "      <td>660.000000</td>\n",
       "      <td>546.0</td>\n",
       "      <td>658.000000</td>\n",
       "    </tr>\n",
       "    <tr>\n",
       "      <th>mean</th>\n",
       "      <td>139.763636</td>\n",
       "      <td>7.500000</td>\n",
       "      <td>1.0</td>\n",
       "      <td>0.849799</td>\n",
       "    </tr>\n",
       "    <tr>\n",
       "      <th>std</th>\n",
       "      <td>145.031456</td>\n",
       "      <td>3.454671</td>\n",
       "      <td>0.0</td>\n",
       "      <td>0.886113</td>\n",
       "    </tr>\n",
       "    <tr>\n",
       "      <th>min</th>\n",
       "      <td>3.000000</td>\n",
       "      <td>2.000000</td>\n",
       "      <td>1.0</td>\n",
       "      <td>0.005000</td>\n",
       "    </tr>\n",
       "    <tr>\n",
       "      <th>25%</th>\n",
       "      <td>18.000000</td>\n",
       "      <td>4.750000</td>\n",
       "      <td>1.0</td>\n",
       "      <td>0.404000</td>\n",
       "    </tr>\n",
       "    <tr>\n",
       "      <th>50%</th>\n",
       "      <td>35.000000</td>\n",
       "      <td>7.500000</td>\n",
       "      <td>1.0</td>\n",
       "      <td>0.612000</td>\n",
       "    </tr>\n",
       "    <tr>\n",
       "      <th>75%</th>\n",
       "      <td>314.000000</td>\n",
       "      <td>10.250000</td>\n",
       "      <td>1.0</td>\n",
       "      <td>0.976250</td>\n",
       "    </tr>\n",
       "    <tr>\n",
       "      <th>max</th>\n",
       "      <td>330.000000</td>\n",
       "      <td>13.000000</td>\n",
       "      <td>1.0</td>\n",
       "      <td>9.903000</td>\n",
       "    </tr>\n",
       "  </tbody>\n",
       "</table>\n",
       "</div>"
      ],
      "text/plain": [
       "         subj_idx     TrialId    ACC          rt\n",
       "count  660.000000  660.000000  546.0  658.000000\n",
       "mean   139.763636    7.500000    1.0    0.849799\n",
       "std    145.031456    3.454671    0.0    0.886113\n",
       "min      3.000000    2.000000    1.0    0.005000\n",
       "25%     18.000000    4.750000    1.0    0.404000\n",
       "50%     35.000000    7.500000    1.0    0.612000\n",
       "75%    314.000000   10.250000    1.0    0.976250\n",
       "max    330.000000   13.000000    1.0    9.903000"
      ]
     },
     "execution_count": 8,
     "metadata": {},
     "output_type": "execute_result"
    }
   ],
   "source": [
    "# Read in and clean data\n",
    "if preprocess_data:\n",
    "    files = glob.glob(file_dir + \"/seq*SET*.csv\")[:n_subj]\n",
    "    all_data = pd.DataFrame()\n",
    "\n",
    "    for file in files:\n",
    "\n",
    "        # Drop unncessary rows and columns\n",
    "        data_file = pd.read_csv(file, low_memory=False)\n",
    "        data_file = data_file[data_file.TrainorExp == \"Train\"]\n",
    "        data_file = data_file[[\"Subject\", \"TrialId\", \"CRESP\", \"RESP\", \"ACC\", \"RT\", \"Category\", \"SETornoSET\"]]\n",
    "\n",
    "        # Add all subjects into one file\n",
    "        all_data = all_data.append(data_file)\n",
    "\n",
    "    # Remove eye tracking data\n",
    "    grouped = all_data.groupby([\"Subject\", \"TrialId\"], as_index=False)\n",
    "    all_data = grouped.agg(first)\n",
    "\n",
    "    all_data['RT'] = all_data['RT'] / 1000\n",
    "    all_data = all_data.rename(columns={\"Subject\": \"subj_idx\", \"RT\": \"rt\"})\n",
    "\n",
    "    all_data.to_csv(\"hddm/hddm_all_data.csv\")\n",
    "    \n",
    "else:\n",
    "    all_data = pd.read_csv(\"hddm/hddm_all_data.csv\")\n",
    "    \n",
    "exclude = [8, 19, 33, 303, 309, 320]\n",
    "all_data = all_data[np.logical_not(all_data.subj_idx.isin(exclude))]\n",
    "all_data.describe()"
   ]
  },
  {
   "cell_type": "markdown",
   "metadata": {},
   "source": [
    "## Accuracy model"
   ]
  },
  {
   "cell_type": "code",
   "execution_count": 9,
   "metadata": {},
   "outputs": [
    {
     "data": {
      "text/html": [
       "<div>\n",
       "<style scoped>\n",
       "    .dataframe tbody tr th:only-of-type {\n",
       "        vertical-align: middle;\n",
       "    }\n",
       "\n",
       "    .dataframe tbody tr th {\n",
       "        vertical-align: top;\n",
       "    }\n",
       "\n",
       "    .dataframe thead th {\n",
       "        text-align: right;\n",
       "    }\n",
       "</style>\n",
       "<table border=\"1\" class=\"dataframe\">\n",
       "  <thead>\n",
       "    <tr style=\"text-align: right;\">\n",
       "      <th></th>\n",
       "      <th>subj_idx</th>\n",
       "      <th>TrialId</th>\n",
       "      <th>CRESP</th>\n",
       "      <th>RESP</th>\n",
       "      <th>response</th>\n",
       "      <th>rt</th>\n",
       "      <th>Category</th>\n",
       "      <th>SETornoSET</th>\n",
       "    </tr>\n",
       "  </thead>\n",
       "  <tbody>\n",
       "    <tr>\n",
       "      <th>0</th>\n",
       "      <td>3.0</td>\n",
       "      <td>2.0</td>\n",
       "      <td>p</td>\n",
       "      <td>p</td>\n",
       "      <td>1.0</td>\n",
       "      <td>1.405</td>\n",
       "      <td>1span</td>\n",
       "      <td>a SET</td>\n",
       "    </tr>\n",
       "    <tr>\n",
       "      <th>1</th>\n",
       "      <td>3.0</td>\n",
       "      <td>3.0</td>\n",
       "      <td>q</td>\n",
       "      <td>q</td>\n",
       "      <td>1.0</td>\n",
       "      <td>0.598</td>\n",
       "      <td>1span</td>\n",
       "      <td>not a SET</td>\n",
       "    </tr>\n",
       "    <tr>\n",
       "      <th>2</th>\n",
       "      <td>3.0</td>\n",
       "      <td>4.0</td>\n",
       "      <td>p</td>\n",
       "      <td>p</td>\n",
       "      <td>1.0</td>\n",
       "      <td>0.850</td>\n",
       "      <td>0span</td>\n",
       "      <td>a SET</td>\n",
       "    </tr>\n",
       "    <tr>\n",
       "      <th>3</th>\n",
       "      <td>3.0</td>\n",
       "      <td>5.0</td>\n",
       "      <td>p</td>\n",
       "      <td>q</td>\n",
       "      <td>NaN</td>\n",
       "      <td>0.514</td>\n",
       "      <td>2span</td>\n",
       "      <td>a SET</td>\n",
       "    </tr>\n",
       "    <tr>\n",
       "      <th>4</th>\n",
       "      <td>3.0</td>\n",
       "      <td>6.0</td>\n",
       "      <td>q</td>\n",
       "      <td>q</td>\n",
       "      <td>1.0</td>\n",
       "      <td>0.929</td>\n",
       "      <td>0span</td>\n",
       "      <td>not a SET</td>\n",
       "    </tr>\n",
       "  </tbody>\n",
       "</table>\n",
       "</div>"
      ],
      "text/plain": [
       "   subj_idx  TrialId CRESP RESP  response     rt Category SETornoSET\n",
       "0       3.0      2.0     p    p       1.0  1.405    1span      a SET\n",
       "1       3.0      3.0     q    q       1.0  0.598    1span  not a SET\n",
       "2       3.0      4.0     p    p       1.0  0.850    0span      a SET\n",
       "3       3.0      5.0     p    q       NaN  0.514    2span      a SET\n",
       "4       3.0      6.0     q    q       1.0  0.929    0span  not a SET"
      ]
     },
     "execution_count": 9,
     "metadata": {},
     "output_type": "execute_result"
    }
   ],
   "source": [
    "# Reshape data for ACCURACY MODEL\n",
    "acc_data = all_data.copy()\n",
    "acc_data = acc_data.rename(columns={\"ACC\": \"response\"})\n",
    "acc_data.head()"
   ]
  },
  {
   "cell_type": "code",
   "execution_count": 12,
   "metadata": {},
   "outputs": [
    {
     "data": {
      "image/png": "[encoded data removed]",
      "text/plain": [
       "<Figure size 432x288 with 1 Axes>"
      ]
     },
     "metadata": {
      "needs_background": "light"
     },
     "output_type": "display_data"
    }
   ],
   "source": [
    "# Plot RT distributions\n",
    "acc_data = hddm.utils.flip_errors(acc_data)\n",
    "\n",
    "fig = plt.figure()\n",
    "ax = fig.add_subplot(111, xlabel='RT', ylabel='count', title='RT distributions')\n",
    "for i, subj_data in acc_data.groupby('subj_idx'):\n",
    "    subj_data.rt.hist(bins=20, histtype='step', ax=ax)\n",
    "plt.savefig('hddm/rt_hist.pdf')"
   ]
  },
  {
   "cell_type": "code",
   "execution_count": 11,
   "metadata": {},
   "outputs": [
    {
     "name": "stderr",
     "output_type": "stream",
     "text": [
      "C:\\Users\\maria\\Anaconda3\\envs\\SETDDM\\lib\\site-packages\\scipy\\optimize\\optimize.py:1927: RuntimeWarning: invalid value encountered in double_scalars\n",
      "  tmp2 = (x - v) * (fx - fw)\n",
      "C:\\Users\\maria\\Anaconda3\\envs\\SETDDM\\lib\\site-packages\\scipy\\optimize\\optimize.py:1926: RuntimeWarning: invalid value encountered in double_scalars\n",
      "  tmp1 = (x - w) * (fx - fv)\n",
      "C:\\Users\\maria\\Anaconda3\\envs\\SETDDM\\lib\\site-packages\\scipy\\optimize\\optimize.py:2573: RuntimeWarning: invalid value encountered in double_scalars\n",
      "  if (fx2 - fval) > delta:\n",
      "C:\\Users\\maria\\Anaconda3\\envs\\SETDDM\\lib\\site-packages\\scipy\\optimize\\optimize.py:2582: RuntimeWarning: invalid value encountered in double_scalars\n",
      "  if 2.0 * (fx - fval) <= bnd:\n",
      "C:\\Users\\maria\\Anaconda3\\envs\\SETDDM\\lib\\site-packages\\pymc\\Node.py:403: VisibleDeprecationWarning: using a non-integer number instead of an integer will result in an error in the future\n",
      "  self.__name__ = input['__name__']\n"
     ]
    },
    {
     "ename": "AssertionError",
     "evalue": "Step-out procedure failed",
     "output_type": "error",
     "traceback": [
      "\u001b[1;31m---------------------------------------------------------------------------\u001b[0m",
      "\u001b[1;31mAssertionError\u001b[0m                            Traceback (most recent call last)",
      "\u001b[1;32m<ipython-input-11-fcdf0be701da>\u001b[0m in \u001b[0;36m<module>\u001b[1;34m()\u001b[0m\n\u001b[0;32m      5\u001b[0m                           p_outlier=0.05)\n\u001b[0;32m      6\u001b[0m     \u001b[0macc_model\u001b[0m\u001b[1;33m.\u001b[0m\u001b[0mfind_starting_values\u001b[0m\u001b[1;33m(\u001b[0m\u001b[1;33m)\u001b[0m\u001b[1;33m\u001b[0m\u001b[0m\n\u001b[1;32m----> 7\u001b[1;33m     \u001b[0macc_model\u001b[0m\u001b[1;33m.\u001b[0m\u001b[0msample\u001b[0m\u001b[1;33m(\u001b[0m\u001b[0mn_sample\u001b[0m\u001b[1;33m,\u001b[0m \u001b[0mburn\u001b[0m\u001b[1;33m=\u001b[0m\u001b[0mn_burn\u001b[0m\u001b[1;33m)\u001b[0m\u001b[1;33m\u001b[0m\u001b[0m\n\u001b[0m\u001b[0;32m      8\u001b[0m     \u001b[0macc_traces\u001b[0m \u001b[1;33m=\u001b[0m \u001b[0macc_model\u001b[0m\u001b[1;33m.\u001b[0m\u001b[0mget_traces\u001b[0m\u001b[1;33m(\u001b[0m\u001b[1;33m)\u001b[0m\u001b[1;33m\u001b[0m\u001b[0m\n\u001b[0;32m      9\u001b[0m     \u001b[0macc_traces\u001b[0m\u001b[1;33m.\u001b[0m\u001b[0mto_csv\u001b[0m\u001b[1;33m(\u001b[0m\u001b[1;34m\"hddm/acc_traces.csv\"\u001b[0m\u001b[1;33m)\u001b[0m\u001b[1;33m\u001b[0m\u001b[0m\n",
      "\u001b[1;32m~\\Anaconda3\\envs\\SETDDM\\lib\\site-packages\\kabuki\\hierarchical.py\u001b[0m in \u001b[0;36msample\u001b[1;34m(self, *args, **kwargs)\u001b[0m\n\u001b[0;32m    649\u001b[0m \u001b[1;33m\u001b[0m\u001b[0m\n\u001b[0;32m    650\u001b[0m         \u001b[1;31m# sample\u001b[0m\u001b[1;33m\u001b[0m\u001b[1;33m\u001b[0m\u001b[0m\n\u001b[1;32m--> 651\u001b[1;33m         \u001b[0mself\u001b[0m\u001b[1;33m.\u001b[0m\u001b[0mmc\u001b[0m\u001b[1;33m.\u001b[0m\u001b[0msample\u001b[0m\u001b[1;33m(\u001b[0m\u001b[1;33m*\u001b[0m\u001b[0margs\u001b[0m\u001b[1;33m,\u001b[0m \u001b[1;33m**\u001b[0m\u001b[0mkwargs\u001b[0m\u001b[1;33m)\u001b[0m\u001b[1;33m\u001b[0m\u001b[0m\n\u001b[0m\u001b[0;32m    652\u001b[0m \u001b[1;33m\u001b[0m\u001b[0m\n\u001b[0;32m    653\u001b[0m         \u001b[0mself\u001b[0m\u001b[1;33m.\u001b[0m\u001b[0msampled\u001b[0m \u001b[1;33m=\u001b[0m \u001b[1;32mTrue\u001b[0m\u001b[1;33m\u001b[0m\u001b[0m\n",
      "\u001b[1;32m~\\Anaconda3\\envs\\SETDDM\\lib\\site-packages\\pymc\\MCMC.py\u001b[0m in \u001b[0;36msample\u001b[1;34m(self, iter, burn, thin, tune_interval, tune_throughout, save_interval, burn_till_tuned, stop_tuning_after, verbose, progress_bar)\u001b[0m\n\u001b[0;32m    277\u001b[0m \u001b[1;33m\u001b[0m\u001b[0m\n\u001b[0;32m    278\u001b[0m         \u001b[1;31m# Run sampler\u001b[0m\u001b[1;33m\u001b[0m\u001b[1;33m\u001b[0m\u001b[0m\n\u001b[1;32m--> 279\u001b[1;33m         \u001b[0mSampler\u001b[0m\u001b[1;33m.\u001b[0m\u001b[0msample\u001b[0m\u001b[1;33m(\u001b[0m\u001b[0mself\u001b[0m\u001b[1;33m,\u001b[0m \u001b[0miter\u001b[0m\u001b[1;33m,\u001b[0m \u001b[0mlength\u001b[0m\u001b[1;33m,\u001b[0m \u001b[0mverbose\u001b[0m\u001b[1;33m)\u001b[0m\u001b[1;33m\u001b[0m\u001b[0m\n\u001b[0m\u001b[0;32m    280\u001b[0m \u001b[1;33m\u001b[0m\u001b[0m\n\u001b[0;32m    281\u001b[0m     \u001b[1;32mdef\u001b[0m \u001b[0m_loop\u001b[0m\u001b[1;33m(\u001b[0m\u001b[0mself\u001b[0m\u001b[1;33m)\u001b[0m\u001b[1;33m:\u001b[0m\u001b[1;33m\u001b[0m\u001b[0m\n",
      "\u001b[1;32m~\\Anaconda3\\envs\\SETDDM\\lib\\site-packages\\pymc\\Model.py\u001b[0m in \u001b[0;36msample\u001b[1;34m(self, iter, length, verbose)\u001b[0m\n\u001b[0;32m    249\u001b[0m         \u001b[1;31m# Loop\u001b[0m\u001b[1;33m\u001b[0m\u001b[1;33m\u001b[0m\u001b[0m\n\u001b[0;32m    250\u001b[0m         \u001b[0mself\u001b[0m\u001b[1;33m.\u001b[0m\u001b[0m_current_iter\u001b[0m \u001b[1;33m=\u001b[0m \u001b[1;36m0\u001b[0m\u001b[1;33m\u001b[0m\u001b[0m\n\u001b[1;32m--> 251\u001b[1;33m         \u001b[0mself\u001b[0m\u001b[1;33m.\u001b[0m\u001b[0m_loop\u001b[0m\u001b[1;33m(\u001b[0m\u001b[1;33m)\u001b[0m\u001b[1;33m\u001b[0m\u001b[0m\n\u001b[0m\u001b[0;32m    252\u001b[0m         \u001b[0mself\u001b[0m\u001b[1;33m.\u001b[0m\u001b[0m_finalize\u001b[0m\u001b[1;33m(\u001b[0m\u001b[1;33m)\u001b[0m\u001b[1;33m\u001b[0m\u001b[0m\n\u001b[0;32m    253\u001b[0m \u001b[1;33m\u001b[0m\u001b[0m\n",
      "\u001b[1;32m~\\Anaconda3\\envs\\SETDDM\\lib\\site-packages\\pymc\\MCMC.py\u001b[0m in \u001b[0;36m_loop\u001b[1;34m(self)\u001b[0m\n\u001b[0;32m    313\u001b[0m                         \u001b[0mprint_\u001b[0m\u001b[1;33m(\u001b[0m\u001b[1;34m'Step method %s stepping'\u001b[0m \u001b[1;33m%\u001b[0m \u001b[0mstep_method\u001b[0m\u001b[1;33m.\u001b[0m\u001b[0m_id\u001b[0m\u001b[1;33m)\u001b[0m\u001b[1;33m\u001b[0m\u001b[0m\n\u001b[0;32m    314\u001b[0m                     \u001b[1;31m# Step the step method\u001b[0m\u001b[1;33m\u001b[0m\u001b[1;33m\u001b[0m\u001b[0m\n\u001b[1;32m--> 315\u001b[1;33m                     \u001b[0mstep_method\u001b[0m\u001b[1;33m.\u001b[0m\u001b[0mstep\u001b[0m\u001b[1;33m(\u001b[0m\u001b[1;33m)\u001b[0m\u001b[1;33m\u001b[0m\u001b[0m\n\u001b[0m\u001b[0;32m    316\u001b[0m \u001b[1;33m\u001b[0m\u001b[0m\n\u001b[0;32m    317\u001b[0m                 \u001b[1;31m# Record sample to trace, if appropriate\u001b[0m\u001b[1;33m\u001b[0m\u001b[1;33m\u001b[0m\u001b[0m\n",
      "\u001b[1;32m~\\Anaconda3\\envs\\SETDDM\\lib\\site-packages\\kabuki\\step_methods.py\u001b[0m in \u001b[0;36mstep\u001b[1;34m(self)\u001b[0m\n\u001b[0;32m    381\u001b[0m                 \u001b[0miter\u001b[0m \u001b[1;33m+=\u001b[0m \u001b[1;36m1\u001b[0m\u001b[1;33m\u001b[0m\u001b[0m\n\u001b[0;32m    382\u001b[0m \u001b[1;33m\u001b[0m\u001b[0m\n\u001b[1;32m--> 383\u001b[1;33m             \u001b[1;32massert\u001b[0m \u001b[0miter\u001b[0m \u001b[1;33m<\u001b[0m \u001b[0mself\u001b[0m\u001b[1;33m.\u001b[0m\u001b[0mmaxiter\u001b[0m\u001b[1;33m,\u001b[0m \u001b[1;34m\"Step-out procedure failed\"\u001b[0m\u001b[1;33m\u001b[0m\u001b[0m\n\u001b[0m\u001b[0;32m    384\u001b[0m             \u001b[0mself\u001b[0m\u001b[1;33m.\u001b[0m\u001b[0mneval\u001b[0m \u001b[1;33m+=\u001b[0m \u001b[0miter\u001b[0m\u001b[1;33m\u001b[0m\u001b[0m\n\u001b[0;32m    385\u001b[0m \u001b[1;33m\u001b[0m\u001b[0m\n",
      "\u001b[1;31mAssertionError\u001b[0m: Step-out procedure failed"
     ]
    }
   ],
   "source": [
    "# Create basic accuracy model\n",
    "if run_acc_model:\n",
    "    acc_model = hddm.HDDM(acc_data,\n",
    "                          depends_on={'a': 'Category', 'v': 'Category'},\n",
    "                          p_outlier=0.05)\n",
    "    acc_model.find_starting_values()\n",
    "    acc_model.sample(n_sample, burn=n_burn)\n",
    "    acc_traces = acc_model.get_traces()\n",
    "    acc_traces.to_csv(\"hddm/acc_traces.csv\")"
   ]
  },
  {
   "cell_type": "code",
   "execution_count": null,
   "metadata": {},
   "outputs": [],
   "source": [
    "# Create more advanced accuracy model\n",
    "if run_acc_model:\n",
    "    acc_model = hddm.HDDM(acc_data,\n",
    "                          depends_on={'a': 'Category', 'v': 'Category'},\n",
    "                          include=('z', 'sv', 'st', 'sz'),\n",
    "                          p_outlier=0.05)\n",
    "    acc_model.find_starting_values()\n",
    "    acc_model.sample(n_sample, burn=n_burn)\n",
    "    acc_traces = acc_model.get_traces()\n",
    "    acc_traces.to_csv(\"hddm/acc_traces_complete.csv\")"
   ]
  },
  {
   "cell_type": "code",
   "execution_count": null,
   "metadata": {},
   "outputs": [],
   "source": [
    "acc_model.plot_posteriors(['a', 't', 'v', 'a_std'])\n",
    "plt.savefig('hddm/acc_posteriors.pdf')"
   ]
  },
  {
   "cell_type": "code",
   "execution_count": null,
   "metadata": {},
   "outputs": [],
   "source": [
    "# models = []\n",
    "# for i in range(5):\n",
    "#     m = hddm.HDDM(data)\n",
    "#     m.find_starting_values()\n",
    "#     m.sample(5000, burn=20)\n",
    "#     models.append(m)\n",
    "\n",
    "# hddm.analyze.gelman_rubin(models)"
   ]
  },
  {
   "cell_type": "code",
   "execution_count": null,
   "metadata": {},
   "outputs": [],
   "source": [
    "stats = acc_model.gen_stats()\n",
    "stats.to_csv('acc_stats.csv')"
   ]
  },
  {
   "cell_type": "code",
   "execution_count": null,
   "metadata": {},
   "outputs": [],
   "source": [
    "a0, a1, a2, a3 = acc_model.nodes_db.node[['a(0span)', 'a(1span)', 'a(2span)', 'a(3span)']]\n",
    "hddm.analyze.plot_posterior_nodes([a0, a1, a2, a3])\n",
    "plt.xlabel('threshold')\n",
    "plt.ylabel('Posterior probability')\n",
    "plt.title('Posterior of threshold group means')\n",
    "plt.savefig('hddm/acc_posterior_nodes_a.pdf')"
   ]
  },
  {
   "cell_type": "code",
   "execution_count": null,
   "metadata": {},
   "outputs": [],
   "source": [
    "v0, v1, v2, v3 = acc_model.nodes_db.node[['v(0span)', 'v(1span)', 'v(2span)', 'v(3span)']]\n",
    "hddm.analyze.plot_posterior_nodes([v0, v1, v2, v3])\n",
    "plt.xlabel('drift rate')\n",
    "plt.ylabel('Posterior probability')\n",
    "plt.title('Posterior of drift rate group means')\n",
    "plt.savefig('hddm/acc_posterior_nodes_v.pdf')"
   ]
  },
  {
   "cell_type": "code",
   "execution_count": null,
   "metadata": {},
   "outputs": [],
   "source": [
    "acc_model.plot_posterior_predictive(figsize=(14, 10))\n",
    "plt.savefig('hddm/acc_posterior_predictive.pdf')"
   ]
  },
  {
   "cell_type": "markdown",
   "metadata": {},
   "source": [
    "## Stimulus model"
   ]
  },
  {
   "cell_type": "code",
   "execution_count": null,
   "metadata": {},
   "outputs": [],
   "source": [
    "# Bring data in correct shape for STIMULUS CODING MODEL\n",
    "# In that case, the ‘resp’ column in your data should contain 0 and 1 for the chosen stimulus (or direction),\n",
    "# not whether the response was correct or not as you would use in accuracy coding.\n",
    "# You then have to provide another column (referred to as stim_col) which contains information about which the correct response was.\n",
    "stim_data = all_data.copy()\n",
    "stim_data = stim_data.rename(columns={\"RESP\": \"response\", \"CRESP\": \"correct_response\"})\n",
    "stim_data = stim_data.replace({'response': {'p': 1, 'q': 0}})\n",
    "stim_data = stim_data.replace({'correct_response': {'p': 1, 'q': 0}})\n",
    "stim_data.head()"
   ]
  },
  {
   "cell_type": "code",
   "execution_count": null,
   "metadata": {},
   "outputs": [],
   "source": [
    "# Plot RT distributions\n",
    "stim_data = hddm.utils.flip_errors(stim_data)\n",
    "\n",
    "fig = plt.figure()\n",
    "ax = fig.add_subplot(111, xlabel='RT', ylabel='count', title='RT distributions')\n",
    "for i, subj_data in stim_data.groupby('subj_idx'):\n",
    "    subj_data.rt.hist(bins=20, histtype='step', ax=ax)"
   ]
  },
  {
   "cell_type": "code",
   "execution_count": null,
   "metadata": {},
   "outputs": [],
   "source": [
    "if run_stim_model:\n",
    "    # Run hddm on SET vs noSET responses\n",
    "    stim_model = hddm.HDDMStimCoding(stim_data,\n",
    "                                     split_param='v',\n",
    "                                     stim_col='correct_response',\n",
    "                                     depends_on={'a': 'Category', 'v': 'Category'},\n",
    "                                     p_outlier=0.05)\n",
    "    stim_model.find_starting_values()\n",
    "    stim_model.sample(n_samples, burn=n_burn)\n",
    "    stim_traces = stim_model.get_traces()\n",
    "    stim_traces.to_csv('hddm/stim_traces.csv')"
   ]
  },
  {
   "cell_type": "code",
   "execution_count": null,
   "metadata": {},
   "outputs": [],
   "source": [
    "a0, a1, a2, a3 = stim_model.nodes_db.node[['a(0span)', 'a(1span)', 'a(2span)', 'a(3span)']]\n",
    "hddm.analyze.plot_posterior_nodes([a0, a1, a2, a3])\n",
    "plt.xlabel('threshold')\n",
    "plt.ylabel('Posterior probability')\n",
    "plt.title('Posterior of threshold group means')\n",
    "plt.savefig('hddm/stim_posterior_nodes_a.pdf')"
   ]
  },
  {
   "cell_type": "code",
   "execution_count": null,
   "metadata": {},
   "outputs": [],
   "source": [
    "v0, v1, v2, v3 = stim_model.nodes_db.node[['v(0span)', 'v(1span)', 'v(2span)', 'v(3span)']]\n",
    "hddm.analyze.plot_posterior_nodes([v0, v1, v2, v3])\n",
    "plt.xlabel('drift rate')\n",
    "plt.ylabel('Posterior probability')\n",
    "plt.title('Posterior of drift rate group means')\n",
    "plt.savefig('hddm/stim_posterior_nodes_v.pdf')"
   ]
  },
  {
   "cell_type": "code",
   "execution_count": null,
   "metadata": {},
   "outputs": [],
   "source": []
  }
 ],
 "metadata": {
  "kernelspec": {
   "display_name": "SETDDM",
   "language": "python",
   "name": "setddm"
  },
  "language_info": {
   "codemirror_mode": {
    "name": "ipython",
    "version": 3
   },
   "file_extension": ".py",
   "mimetype": "text/x-python",
   "name": "python",
   "nbconvert_exporter": "python",
   "pygments_lexer": "ipython3",
   "version": "3.5.6"
  }
 },
 "nbformat": 4,
 "nbformat_minor": 2
}
